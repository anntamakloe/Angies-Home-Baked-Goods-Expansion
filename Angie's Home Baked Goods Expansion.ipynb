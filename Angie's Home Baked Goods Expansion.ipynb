{
 "cells": [
  {
   "cell_type": "markdown",
   "metadata": {},
   "source": [
    "# ANGIE'S HOME BAKED GOODS EXPANSION"
   ]
  },
  {
   "cell_type": "markdown",
   "metadata": {},
   "source": [
    "This project will be based on using Yelp to discover other shops my mom's business, Angie's Home Baked Goods could possibly expand to. My mom makes extremely tasty ROCK BUNSSSS and also makes bread as well as pound cake and other tasty Ghanaian treats. I think since she is a small business right now, she should also target other smaller business as well. She currently is in Ghanaian shops so maybe that should be her target market for now. \n",
    "- Small shops \n",
    "- Ghanaian or African Shops should be at the top \n",
    "- Small coffee shops or baking shops should/ could be next \n",
    "\n",
    "Plan \n",
    "- Utilize Yelp API to discover similar shops around the 22191 zip code \n",
    "- Create a ranking system for shops\n",
    "- Visualize everything using Nominatim OR even better, tableau\n",
    "- Tools \n",
    "    - SQL: I would like to create a database and store my data there after cleaning, appending it, xyz\n",
    "    - Python (Jupyter): I will use this for statistical analysis \n",
    "    - Tabluea: To visualize my data on a map and include meta-data on in there "
   ]
  },
  {
   "cell_type": "code",
   "execution_count": null,
   "metadata": {},
   "outputs": [],
   "source": []
  }
 ],
 "metadata": {
  "kernelspec": {
   "display_name": "Python 3",
   "language": "python",
   "name": "python3"
  },
  "language_info": {
   "codemirror_mode": {
    "name": "ipython",
    "version": 3
   },
   "file_extension": ".py",
   "mimetype": "text/x-python",
   "name": "python",
   "nbconvert_exporter": "python",
   "pygments_lexer": "ipython3",
   "version": "3.7.3"
  }
 },
 "nbformat": 4,
 "nbformat_minor": 2
}
